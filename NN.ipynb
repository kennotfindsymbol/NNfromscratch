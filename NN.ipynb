{
 "cells": [
  {
   "cell_type": "code",
   "execution_count": 122,
   "metadata": {},
   "outputs": [],
   "source": [
    "import numpy as np\n",
    "import pandas as pd\n",
    "import matplotlib.pyplot as plt\n",
    "import tensorflow as tf\n",
    "from keras.utils import to_categorical\n",
    "from sklearn.model_selection import train_test_split\n",
    "import time"
   ]
  },
  {
   "cell_type": "code",
   "execution_count": 123,
   "metadata": {},
   "outputs": [
    {
     "name": "stdout",
     "output_type": "stream",
     "text": [
      "X_train.shape (784, 37800)\n",
      "X_val.shape (784, 4200)\n",
      "y_train.shape (10, 37800)\n",
      "y_val.shape (10, 4200)\n"
     ]
    }
   ],
   "source": [
    "train_data = pd.read_csv('train.csv')\n",
    "X_train = train_data.drop(labels=['label'], axis=1)\n",
    "y_train = train_data['label']\n",
    "del train_data\n",
    "X_train /= 255.0\n",
    "y_train = to_categorical(y_train, num_classes=10)\n",
    "X_train, X_val, y_train, y_val = train_test_split(X_train, y_train, test_size = 0.1)\n",
    "X_train = X_train.T\n",
    "X_val = X_val.T\n",
    "y_train = y_train.T\n",
    "y_val = y_val.T\n",
    "print('X_train.shape', X_train.shape)\n",
    "print('X_val.shape', X_val.shape)\n",
    "print('y_train.shape', y_train.shape)\n",
    "print('y_val.shape', y_val.shape)"
   ]
  },
  {
   "cell_type": "code",
   "execution_count": 191,
   "metadata": {},
   "outputs": [],
   "source": [
    "def ReLU(z):\n",
    "    return np.maximum(0, z)\n",
    "def ReLU_deriv(z):\n",
    "    return z > 0\n",
    "def softmax(z):\n",
    "    return np.exp(z)/np.sum(np.exp(z),axis=0)"
   ]
  },
  {
   "cell_type": "code",
   "execution_count": 195,
   "metadata": {},
   "outputs": [],
   "source": [
    "def init_params():\n",
    "    w1 = np.random.rand(800, 784) - 0.5\n",
    "    b1 = np.random.rand(800, 1) - 0.5\n",
    "    w2 = np.random.rand(10, 800) - 0.5\n",
    "    b2 = np.random.rand(10, 1) - 0.5\n",
    "    return w1, b1, w2, b2\n",
    "\n",
    "def forward_prop(w1, b1, w2, b2, X):\n",
    "    Z1 = w1.dot(X) + b1\n",
    "    A1 = ReLU(Z1)\n",
    "    # print('A1.shape', A1.shape)\n",
    "    Z2 = w2.dot(A1) + b2\n",
    "    A2 = softmax(Z2)\n",
    "    # print('A2.shape', A2.shape)\n",
    "    return Z1, A1, Z2, A2\n",
    "\n",
    "def back_prop(Z1, A1, Z2, A2, w2, X, Y):\n",
    "    m = X.shape[1]\n",
    "    dz2 = A2 - Y\n",
    "    # print('dz2.shape',dz2.shape)\n",
    "    dw2 = 1 / m * dz2.dot(A1.T)\n",
    "    # print('dw2.shape',dw2.shape)\n",
    "    db2 = (1 / m * np.sum(dz2, axis=1)).reshape(10,1)\n",
    "    # print('db2.shape',db2.shape)\n",
    "    dz1 = (w2.T).dot(dz2) * ReLU_deriv(Z1)\n",
    "    # print('dz1.shape',dz1.shape)\n",
    "    dw1 = 1 / m * dz1.dot(X.T)\n",
    "    # print('dw1.shape',dw1.shape)\n",
    "    db1 = (1 / m * np.sum(dz1, axis=1)).reshape(800,1)\n",
    "    # print('db1.shape',db1.shape)\n",
    "    return dw1, db1, dw2, db2\n",
    "\n",
    "def update_params(w1, b1, w2, b2, dw1, db1, dw2, db2, learning_rate):\n",
    "    w1 = w1 - learning_rate * dw1\n",
    "    b1 = b1 - learning_rate * db1\n",
    "    w2 = w2 - learning_rate * dw2\n",
    "    b2 = b2 - learning_rate * db2\n",
    "    return w1, b1, w2, b2\n",
    "\n",
    "\n",
    "\n",
    "def get_predictions(a2):\n",
    "    return np.argmax(a2, axis=0)\n",
    "\n",
    "def predict(w1, b1, w2, b2, X):\n",
    "    Z1, A1, Z2, A2 = forward_prop(w1, b1, w2, b2, X)\n",
    "    return get_predictions(A2)\n",
    "\n",
    "def get_acc(y_hat, y):\n",
    "    return np.sum(y_hat == get_predictions(y)) / y.shape[1]\n",
    "\n"
   ]
  },
  {
   "cell_type": "code",
   "execution_count": 199,
   "metadata": {},
   "outputs": [],
   "source": [
    "def gradient_descent(X, y, learning_rate, iterations):\n",
    "    w1, b1, w2, b2 = init_params()\n",
    "    for i in range(1,iterations+1):\n",
    "        Z1, A1, Z2, A2 = forward_prop(w1, b1, w2, b2, X)\n",
    "        dw1, db1, dw2, db2 = back_prop(Z1, A1, Z2, A2, w2, X, y)\n",
    "        w1, b1, w2, b2 = update_params(w1, b1, w2, b2, dw1, db1, dw2, db2, learning_rate)\n",
    "        # print(w1)\n",
    "        if(i % 10 == 0):\n",
    "            print('iteration ', i, end='')\n",
    "            predictions = get_predictions(A2)\n",
    "            print(' acc: ', get_acc(predictions,y))\n",
    "\n",
    "    return w1, b1, w2, b2\n",
    "    \n",
    "    "
   ]
  },
  {
   "cell_type": "code",
   "execution_count": 207,
   "metadata": {},
   "outputs": [
    {
     "name": "stdout",
     "output_type": "stream",
     "text": [
      "iteration  10 acc:  0.49727513227513226\n",
      "iteration  20 acc:  0.6536243386243387\n",
      "iteration  30 acc:  0.7138359788359788\n",
      "iteration  40 acc:  0.7484920634920635\n",
      "iteration  50 acc:  0.7722486772486773\n",
      "iteration  60 acc:  0.7894973544973545\n",
      "iteration  70 acc:  0.8032010582010582\n",
      "iteration  80 acc:  0.8135978835978837\n",
      "iteration  90 acc:  0.8222486772486772\n",
      "iteration  100 acc:  0.8287566137566138\n",
      "iteration  110 acc:  0.8357671957671957\n",
      "iteration  120 acc:  0.8408201058201058\n",
      "iteration  130 acc:  0.8444973544973545\n",
      "iteration  140 acc:  0.8490740740740741\n",
      "iteration  150 acc:  0.8523015873015873\n",
      "iteration  160 acc:  0.855925925925926\n",
      "iteration  170 acc:  0.8595502645502645\n",
      "iteration  180 acc:  0.8624338624338624\n",
      "iteration  190 acc:  0.8650793650793651\n",
      "iteration  200 acc:  0.8674338624338624\n"
     ]
    }
   ],
   "source": [
    "w1, b1, w2, b2 = gradient_descent(X_train, y_train, 0.04, 200)"
   ]
  },
  {
   "cell_type": "code",
   "execution_count": 208,
   "metadata": {},
   "outputs": [
    {
     "data": {
      "text/plain": [
       "0.8590476190476191"
      ]
     },
     "execution_count": 208,
     "metadata": {},
     "output_type": "execute_result"
    }
   ],
   "source": [
    "get_acc(predict(w1, b1, w2, b2, X_val), y_val)"
   ]
  },
  {
   "cell_type": "code",
   "execution_count": null,
   "metadata": {},
   "outputs": [],
   "source": []
  }
 ],
 "metadata": {
  "kernelspec": {
   "display_name": "Python 3",
   "language": "python",
   "name": "python3"
  },
  "language_info": {
   "codemirror_mode": {
    "name": "ipython",
    "version": 3
   },
   "file_extension": ".py",
   "mimetype": "text/x-python",
   "name": "python",
   "nbconvert_exporter": "python",
   "pygments_lexer": "ipython3",
   "version": "3.11.4"
  }
 },
 "nbformat": 4,
 "nbformat_minor": 2
}
